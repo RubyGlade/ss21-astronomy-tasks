{
 "cells": [
  {
   "cell_type": "code",
   "execution_count": 102,
   "id": "27890c24-749e-48c7-886a-329b84a09d95",
   "metadata": {},
   "outputs": [],
   "source": [
    "from astropy.io import fits\n",
    "import matplotlib.pyplot as plt\n",
    "import numpy as np"
   ]
  },
  {
   "cell_type": "code",
   "execution_count": 103,
   "id": "93b92eb3-506c-45ff-a09d-cc3c7e5bf242",
   "metadata": {},
   "outputs": [],
   "source": [
    "imglist = fits.open('/home/hariprasad/Desktop/ss21-astronomy-tasks/data/gll_iem_v02_P6_V11_DIFFUSE.fit')"
   ]
  },
  {
   "cell_type": "code",
   "execution_count": 104,
   "id": "7057b443-3a7e-409f-a5a8-333d27377753",
   "metadata": {},
   "outputs": [
    {
     "data": {
      "text/plain": [
       "[<astropy.io.fits.hdu.image.PrimaryHDU object at 0x7f4c0c3be070>, <astropy.io.fits.hdu.table.BinTableHDU object at 0x7f4c0c2ff3d0>]"
      ]
     },
     "execution_count": 104,
     "metadata": {},
     "output_type": "execute_result"
    }
   ],
   "source": [
    "imglist"
   ]
  },
  {
   "cell_type": "code",
   "execution_count": 105,
   "id": "efc047b7-34b5-4d73-9b5f-a131fafecd2b",
   "metadata": {},
   "outputs": [
    {
     "name": "stdout",
     "output_type": "stream",
     "text": [
      "Filename: /home/hariprasad/Desktop/ss21-astronomy-tasks/data/gll_iem_v02_P6_V11_DIFFUSE.fit\n",
      "No.    Name      Ver    Type      Cards   Dimensions   Format\n",
      "  0  PRIMARY       1 PrimaryHDU      34   (720, 360, 30)   float32   \n",
      "  1  ENERGIES      1 BinTableHDU     19   30R x 1C   [D]   \n"
     ]
    }
   ],
   "source": [
    "imglist.info()"
   ]
  },
  {
   "cell_type": "code",
   "execution_count": 106,
   "id": "5971074b-49c6-4a7d-9951-672189885478",
   "metadata": {},
   "outputs": [
    {
     "name": "stdout",
     "output_type": "stream",
     "text": [
      "as there are 2 elements in the list or two indexes 0 and 1 in the info, the number of HDU's present in this FITS file is 2\n"
     ]
    }
   ],
   "source": [
    "print(\"as there are 2 elements in the list or two indexes 0 and 1 in the info, the number of HDU's present in this FITS file is 2\")"
   ]
  },
  {
   "cell_type": "code",
   "execution_count": 107,
   "id": "4a54acb2-c4e5-4655-bfad-9b537261ed51",
   "metadata": {},
   "outputs": [],
   "source": [
    "hdu1 = imglist[0]"
   ]
  },
  {
   "cell_type": "code",
   "execution_count": 108,
   "id": "d311f062-70e7-4a49-8c44-4c379466c893",
   "metadata": {},
   "outputs": [
    {
     "data": {
      "text/plain": [
       "SIMPLE  =                    T / Written by IDL:  Thu Jan 20 07:19:05 2011      \n",
       "BITPIX  =                  -32 /                                                \n",
       "NAXIS   =                    3 / number of data axes                            \n",
       "NAXIS1  =                  720 / length of data axis 1                          \n",
       "NAXIS2  =                  360 / length of data axis 2                          \n",
       "NAXIS3  =                   30 / length of data axis 3                          \n",
       "EXTEND  =                    T / FITS dataset may contain extensions            \n",
       "COMMENT   FITS (Flexible Image Transport System) format is defined in 'Astronomy\n",
       "COMMENT   and Astrophysics', volume 376, page 359; bibcode: 2001A&A...376..359H \n",
       "FLUX    =        8.42259635886 /                                                \n",
       "CRVAL1  =                   0. / Value of longitude in pixel CRPIX1             \n",
       "CDELT1  =                  0.5 / Step size in longitude                         \n",
       "CRPIX1  =                360.5 / Pixel that has value CRVAL1                    \n",
       "CTYPE1  = 'GLON-CAR'           / The type of parameter 1 (Galactic longitude in \n",
       "CUNIT1  = 'deg     '           / The unit of parameter 1                        \n",
       "CRVAL2  =                   0. / Value of latitude in pixel CRPIX2              \n",
       "CDELT2  =                  0.5 / Step size in latitude                          \n",
       "CRPIX2  =                180.5 / Pixel that has value CRVAL2                    \n",
       "CTYPE2  = 'GLAT-CAR'           / The type of parameter 2 (Galactic latitude in C\n",
       "CUNIT2  = 'deg     '           / The unit of parameter 2                        \n",
       "CRVAL3  =                  50. / Energy of pixel CRPIX3                         \n",
       "CDELT3  =    0.113828620540137 / log10 of step size in energy (if it is logarith\n",
       "CRPIX3  =                   1. / Pixel that has value CRVAL3                    \n",
       "CTYPE3  = 'photon energy'      / Axis 3 is the spectra                          \n",
       "CUNIT3  = 'MeV     '           / The unit of axis 3                             \n",
       "CHECKSUM= '3fdO3caL3caL3caL'   / HDU checksum updated 2009-07-07T22:31:18       \n",
       "DATASUM = '2184619035'         / data unit checksum updated 2009-07-07T22:31:18 \n",
       "DATE    = '2009-07-07'         /                                                \n",
       "FILENAME= '$TEMPDIR/diffuse/gll_iem_v02.fit' /File name with version number     \n",
       "TELESCOP= 'GLAST   '           /                                                \n",
       "INSTRUME= 'LAT     '           /                                                \n",
       "ORIGIN  = 'LISOC   '           /LAT team product delivered from the LISOC       \n",
       "OBSERVER= 'MICHELSON'          /Instrument PI                                   \n",
       "HISTORY Scaled version of gll_iem_v02.fit for use with P6_V11_DIFFUSE           "
      ]
     },
     "execution_count": 108,
     "metadata": {},
     "output_type": "execute_result"
    }
   ],
   "source": [
    "hdu1.header"
   ]
  },
  {
   "cell_type": "code",
   "execution_count": 109,
   "id": "4e446049-f105-46c4-9f75-16fb86a89ec1",
   "metadata": {},
   "outputs": [],
   "source": [
    "answerlist = [ hdu1.header[5],hdu1.header[23],hdu1.header[24],hdu1.header[29],hdu1.header[32]]"
   ]
  },
  {
   "cell_type": "code",
   "execution_count": 110,
   "id": "73312494-0c37-4735-9133-18e6d02d2ac3",
   "metadata": {},
   "outputs": [
    {
     "name": "stdout",
     "output_type": "stream",
     "text": [
      "[30, 'photon energy', 'MeV', 'GLAST', 'MICHELSON']\n"
     ]
    }
   ],
   "source": [
    "print(answerlist) # the answers to the questions asked have been put in this array in their respective order"
   ]
  },
  {
   "cell_type": "code",
   "execution_count": 111,
   "id": "2f4612b9-930c-45ad-b8c7-099ed42bad9b",
   "metadata": {},
   "outputs": [
    {
     "data": {
      "text/plain": [
       "array([[[1.20141934e-07, 1.19992990e-07, 1.19992990e-07, ...,\n",
       "         1.17146094e-07, 1.17146094e-07, 1.17242180e-07],\n",
       "        [1.26873346e-07, 1.26873346e-07, 1.26829207e-07, ...,\n",
       "         1.24251599e-07, 1.24325553e-07, 1.24325553e-07],\n",
       "        [1.31679627e-07, 1.31590227e-07, 1.31542834e-07, ...,\n",
       "         1.34925770e-07, 1.34955656e-07, 1.35187406e-07],\n",
       "        ...,\n",
       "        [1.14278869e-07, 1.14215226e-07, 1.14194677e-07, ...,\n",
       "         1.09027361e-07, 1.09093030e-07, 1.09137709e-07],\n",
       "        [1.12280688e-07, 1.12280688e-07, 1.12276986e-07, ...,\n",
       "         1.09685772e-07, 1.09658203e-07, 1.09658203e-07],\n",
       "        [1.09558805e-07, 1.09467798e-07, 1.09467798e-07, ...,\n",
       "         1.09205502e-07, 1.09205502e-07, 1.09279974e-07]],\n",
       "\n",
       "       [[7.89390882e-08, 7.88358321e-08, 7.88358321e-08, ...,\n",
       "         7.67633708e-08, 7.67633708e-08, 7.68264741e-08],\n",
       "        [8.37779766e-08, 8.37779766e-08, 8.37445597e-08, ...,\n",
       "         8.17242594e-08, 8.17777632e-08, 8.17777632e-08],\n",
       "        [8.73966570e-08, 8.73286510e-08, 8.72876242e-08, ...,\n",
       "         8.93854306e-08, 8.94073651e-08, 8.95730139e-08],\n",
       "        ...,\n",
       "        [7.42693516e-08, 7.42229460e-08, 7.42072999e-08, ...,\n",
       "         7.05513301e-08, 7.06054095e-08, 7.06440062e-08],\n",
       "        [7.27149683e-08, 7.27149683e-08, 7.27104421e-08, ...,\n",
       "         7.07478662e-08, 7.07304366e-08, 7.07304366e-08],\n",
       "        [7.06265979e-08, 7.05604677e-08, 7.05604677e-08, ...,\n",
       "         7.02274932e-08, 7.02274932e-08, 7.02822121e-08]],\n",
       "\n",
       "       [[5.15141494e-08, 5.14435605e-08, 5.14435605e-08, ...,\n",
       "         4.99676318e-08, 4.99676318e-08, 5.00085982e-08],\n",
       "        [5.49267085e-08, 5.49267085e-08, 5.49021451e-08, ...,\n",
       "         5.33801483e-08, 5.34181019e-08, 5.34181019e-08],\n",
       "        [5.75757575e-08, 5.75255434e-08, 5.74924961e-08, ...,\n",
       "         5.87775837e-08, 5.87933151e-08, 5.89096061e-08],\n",
       "        ...,\n",
       "        [4.79267648e-08, 4.78936997e-08, 4.78821711e-08, ...,\n",
       "         4.53396147e-08, 4.53816931e-08, 4.54126408e-08],\n",
       "        [4.67617802e-08, 4.67617802e-08, 4.67575205e-08, ...,\n",
       "         4.53161491e-08, 4.53052316e-08, 4.53052316e-08],\n",
       "        [4.52149358e-08, 4.51679547e-08, 4.51679547e-08, ...,\n",
       "         4.48484272e-08, 4.48484272e-08, 4.48876776e-08]],\n",
       "\n",
       "       ...,\n",
       "\n",
       "       [[2.96298156e-14, 2.95964662e-14, 2.95964662e-14, ...,\n",
       "         2.92505379e-14, 2.92505379e-14, 2.92804721e-14],\n",
       "        [3.07346955e-14, 3.07346955e-14, 3.07315547e-14, ...,\n",
       "         3.07645077e-14, 3.07756546e-14, 3.07756546e-14],\n",
       "        [3.11738584e-14, 3.11663333e-14, 3.11731672e-14, ...,\n",
       "         3.25071458e-14, 3.25120925e-14, 3.25516320e-14],\n",
       "        ...,\n",
       "        [2.98706745e-14, 2.98612961e-14, 2.98587347e-14, ...,\n",
       "         2.89452740e-14, 2.89390805e-14, 2.89314640e-14],\n",
       "        [2.97904401e-14, 2.97904401e-14, 2.97940214e-14, ...,\n",
       "         2.96489585e-14, 2.96393701e-14, 2.96393701e-14],\n",
       "        [2.96512421e-14, 2.96382791e-14, 2.96382791e-14, ...,\n",
       "         2.99351371e-14, 2.99351371e-14, 2.99451151e-14]],\n",
       "\n",
       "       [[1.71796798e-14, 1.71614415e-14, 1.71614415e-14, ...,\n",
       "         1.69859532e-14, 1.69859532e-14, 1.70027837e-14],\n",
       "        [1.77626417e-14, 1.77626417e-14, 1.77612763e-14, ...,\n",
       "         1.78097215e-14, 1.78155254e-14, 1.78155254e-14],\n",
       "        [1.79679947e-14, 1.79645947e-14, 1.79693110e-14, ...,\n",
       "         1.87284931e-14, 1.87310901e-14, 1.87520643e-14],\n",
       "        ...,\n",
       "        [1.73887834e-14, 1.73839028e-14, 1.73826306e-14, ...,\n",
       "         1.68948243e-14, 1.68903825e-14, 1.68853138e-14],\n",
       "        [1.73639213e-14, 1.73639213e-14, 1.73661083e-14, ...,\n",
       "         1.73088760e-14, 1.73034550e-14, 1.73034550e-14],\n",
       "        [1.73115577e-14, 1.73048323e-14, 1.73048323e-14, ...,\n",
       "         1.74861854e-14, 1.74861854e-14, 1.74912829e-14]],\n",
       "\n",
       "       [[9.40488379e-15, 9.39549104e-15, 9.39549104e-15, ...,\n",
       "         9.31084874e-15, 9.31084874e-15, 9.31970447e-15],\n",
       "        [9.69655620e-15, 9.69655620e-15, 9.69599885e-15, ...,\n",
       "         9.73356392e-15, 9.73643366e-15, 9.73643366e-15],\n",
       "        [9.78799849e-15, 9.78653990e-15, 9.78937153e-15, ...,\n",
       "         1.01924999e-14, 1.01937933e-14, 1.02043253e-14],\n",
       "        ...,\n",
       "        [9.54769185e-15, 9.54527781e-15, 9.54467303e-15, ...,\n",
       "         9.29836262e-15, 9.29564026e-15, 9.29265616e-15],\n",
       "        [9.54283497e-15, 9.54283497e-15, 9.54405385e-15, ...,\n",
       "         9.52375131e-15, 9.52088580e-15, 9.52088580e-15],\n",
       "        [9.52561225e-15, 9.52229865e-15, 9.52229865e-15, ...,\n",
       "         9.62356060e-15, 9.62356060e-15, 9.62603901e-15]]], dtype=float32)"
      ]
     },
     "execution_count": 111,
     "metadata": {},
     "output_type": "execute_result"
    }
   ],
   "source": [
    "hdu1.data  #extracting the data of primary HDU"
   ]
  },
  {
   "cell_type": "code",
   "execution_count": 112,
   "id": "dcbe65c1-fd35-48a1-8d78-24282b059771",
   "metadata": {},
   "outputs": [
    {
     "data": {
      "text/plain": [
       "4.5921523e-05"
      ]
     },
     "execution_count": 112,
     "metadata": {},
     "output_type": "execute_result"
    }
   ],
   "source": [
    "np.max(hdu1.data[0]) #finding maximum pixel value in 1st slice"
   ]
  },
  {
   "cell_type": "code",
   "execution_count": 113,
   "id": "84962047-7429-44d1-9402-65d0a9772289",
   "metadata": {},
   "outputs": [
    {
     "data": {
      "text/plain": [
       "7.027717e-08"
      ]
     },
     "execution_count": 113,
     "metadata": {},
     "output_type": "execute_result"
    }
   ],
   "source": [
    "np.min(hdu1.data[0]) #finding min pixel value"
   ]
  },
  {
   "cell_type": "code",
   "execution_count": 114,
   "id": "809d3f14-0dff-40d2-868a-dc2c5f499403",
   "metadata": {},
   "outputs": [
    {
     "data": {
      "text/plain": [
       "1.3843595e-06"
      ]
     },
     "execution_count": 114,
     "metadata": {},
     "output_type": "execute_result"
    }
   ],
   "source": [
    "np.std(hdu1.data[0]) # finding std deviation"
   ]
  },
  {
   "cell_type": "code",
   "execution_count": 115,
   "id": "c20ace02",
   "metadata": {
    "scrolled": true
   },
   "outputs": [],
   "source": [
    "plt.rcParams['figure.figsize'] = [12,9]"
   ]
  },
  {
   "cell_type": "code",
   "execution_count": 116,
   "id": "4e208b10-357d-45bf-848b-28e8731360e2",
   "metadata": {},
   "outputs": [
    {
     "data": {
      "text/plain": [
       "Text(0.5, 1.0, 'unstacked image')"
      ]
     },
     "execution_count": 116,
     "metadata": {},
     "output_type": "execute_result"
    },
    {
     "data": {
      "image/png": "[encoded data removed]",
      "text/plain": [
       "<Figure size 864x648 with 2 Axes>"
      ]
     },
     "metadata": {
      "needs_background": "light"
     },
     "output_type": "display_data"
    }
   ],
   "source": [
    "plt.imshow(hdu1.data[0],cmap = 'gray', vmin = 7.027717e-08 , vmax = 4.5921523e-05 )\n",
    "plt.colorbar()\n",
    "plt.title('unstacked image')"
   ]
  },
  {
   "cell_type": "code",
   "execution_count": 117,
   "id": "d2caefe4-236b-409f-978c-91c40d4c65b0",
   "metadata": {},
   "outputs": [],
   "source": [
    "stackedimgdata = 0\n",
    "for i in range(4,30,5) :\n",
    "    stackedimgdata = stackedimgdata + hdu1.data[i]"
   ]
  },
  {
   "cell_type": "code",
   "execution_count": 118,
   "id": "c8fb36a5-fd12-41be-a44a-bba3deb06552",
   "metadata": {},
   "outputs": [
    {
     "data": {
      "text/plain": [
       "1.2774165e-08"
      ]
     },
     "execution_count": 118,
     "metadata": {},
     "output_type": "execute_result"
    }
   ],
   "source": [
    "np.min(stackedimgdata)    # minimum of stacked data"
   ]
  },
  {
   "cell_type": "code",
   "execution_count": 119,
   "id": "c14c2d82-f36c-476e-9fe5-2d9c242cc85e",
   "metadata": {},
   "outputs": [
    {
     "data": {
      "text/plain": [
       "1.0907543e-05"
      ]
     },
     "execution_count": 119,
     "metadata": {},
     "output_type": "execute_result"
    }
   ],
   "source": [
    "np.max(stackedimgdata)    #maximum of stacked data"
   ]
  },
  {
   "cell_type": "code",
   "execution_count": 120,
   "id": "5e91d025-4723-4586-b8e7-3d43ad9d6220",
   "metadata": {},
   "outputs": [
    {
     "data": {
      "text/plain": [
       "3.5807247e-07"
      ]
     },
     "execution_count": 120,
     "metadata": {},
     "output_type": "execute_result"
    }
   ],
   "source": [
    "np.std(stackedimgdata)    #std deviation of stacked data"
   ]
  },
  {
   "cell_type": "code",
   "execution_count": 121,
   "id": "a849d61b",
   "metadata": {},
   "outputs": [],
   "source": [
    "plt.rcParams['figure.figsize'] = [12,9]"
   ]
  },
  {
   "cell_type": "code",
   "execution_count": 122,
   "id": "2775a748-f17d-4d2f-bec4-4558426dcf59",
   "metadata": {},
   "outputs": [
    {
     "data": {
      "text/plain": [
       "Text(0.5, 1.0, 'stacked image')"
      ]
     },
     "execution_count": 122,
     "metadata": {},
     "output_type": "execute_result"
    },
    {
     "data": {
      "image/png": "[encoded data removed]",
      "text/plain": [
       "<Figure size 864x648 with 2 Axes>"
      ]
     },
     "metadata": {
      "needs_background": "light"
     },
     "output_type": "display_data"
    }
   ],
   "source": [
    "plt.imshow(stackedimgdata,cmap = 'gray',vmin = 1.2774165e-08, vmax = 1.0907543e-05 )  #plotting stacked data\n",
    "plt.colorbar() \n",
    "plt.title('stacked image')"
   ]
  },
  {
   "cell_type": "code",
   "execution_count": 123,
   "id": "22a260e2-6d6a-4af8-81a9-e74d4a96c4dd",
   "metadata": {},
   "outputs": [],
   "source": [
    "from astropy import units as u\n",
    "from astropy.coordinates import SkyCoord, EarthLocation, AltAz\n",
    "from astropy.time import Time"
   ]
  },
  {
   "cell_type": "code",
   "execution_count": 124,
   "id": "8873ff24-8fbc-46cc-b3a4-72eb35781d86",
   "metadata": {},
   "outputs": [],
   "source": [
    "# defining function for returning altitude after 12 hrs "
   ]
  },
  {
   "cell_type": "code",
   "execution_count": 125,
   "id": "8b70162f-642f-466c-8941-fed21e85b1a3",
   "metadata": {},
   "outputs": [],
   "source": [
    "\n",
    "def futurealt(coord , time ) :\n",
    "    IITM = EarthLocation(lat=12.992*u.deg, lon=80.234*u.deg, height=50*u.m)\n",
    "    inputtime = Time(time) - 5.5*u.hour\n",
    "    futuretime = inputtime + 12*u.hour\n",
    "    horcoord = coord.transform_to(AltAz(obstime = futuretime , location = IITM))\n",
    "    return horcoord.alt\n",
    "    "
   ]
  },
  {
   "cell_type": "code",
   "execution_count": 126,
   "id": "ec64dda0-5b7b-4c30-aea0-cbb87a5ce42f",
   "metadata": {},
   "outputs": [],
   "source": [
    "a = futurealt(SkyCoord(12.11*u.deg, 85.26*u.deg), '2021-7-11 22:00:00')  #sample input"
   ]
  },
  {
   "cell_type": "code",
   "execution_count": 127,
   "id": "67211703-2f30-43ff-9c51-ecaa82cbea0b",
   "metadata": {},
   "outputs": [
    {
     "name": "stdout",
     "output_type": "stream",
     "text": [
      "14d53m09.859s\n"
     ]
    }
   ],
   "source": [
    "print(a)"
   ]
  }
 ],
 "metadata": {
  "kernelspec": {
   "display_name": "Python 3 (ipykernel)",
   "language": "python",
   "name": "python3"
  },
  "language_info": {
   "codemirror_mode": {
    "name": "ipython",
    "version": 3
   },
   "file_extension": ".py",
   "mimetype": "text/x-python",
   "name": "python",
   "nbconvert_exporter": "python",
   "pygments_lexer": "ipython3",
   "version": "3.8.10"
  }
 },
 "nbformat": 4,
 "nbformat_minor": 5
}
