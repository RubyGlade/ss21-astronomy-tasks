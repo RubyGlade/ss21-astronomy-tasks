{
 "cells": [
  {
   "cell_type": "code",
   "execution_count": null,
   "id": "15cd8f37-e85d-4cc8-8948-3dbe912a234b",
   "metadata": {},
   "outputs": [],
   "source": [
    "from astropy.io import fits\n",
    "import numpy as np\n",
    "import matplotlib.pyplot as pp\n",
    "hdult = fits.open('/home/saiteja/Downloads/ss21-astronomy-tasks/data/gll_iem_v02_P6_V11_DIFFUSE.fit')\n",
    "# hdult.info\n",
    "thehdu = hdult[0]\n",
    "thehdu.header;\n",
    "hdu = thehdu.data\n",
    "# thehdu.data.shape\n",
    "reqlist = [\"30\" , \"photon energy\", \"MeV\", \"GLAST\", \"MICHELSON\"]\n",
    "slice1 = hdu[::, 0, ::]\n",
    "x = hdu.ravel()\n",
    "sd = np.std(x)\n",
    "arr = np.zeros((30,720))\n",
    "y = np.arange(4,364,5)\n",
    "fig = pp.figure(figsize=(10,5))\n",
    "fig.add_subplot(1,2,1)\n",
    "pp.imshow(slice1,cmap='gray',aspect='auto', vmin=np.amin(hdu[::, 0, ::]),vmax=np.amax(hdu[::, 0, ::]))\n",
    "pp.title('first slice')\n",
    "for i in y:\n",
    "    \n",
    "    arr +=hdu[::,i,::]\n",
    "\n",
    "x = arr.ravel()\n",
    "\n",
    "fig.add_subplot(1,2,2)\n",
    "pp.imshow(arr,cmap='gray',aspect='auto', vmin=np.amin(x),vmax=np.amax(x))\n",
    "pp.title('stack of the slices')"
   ]
  },
  {
   "cell_type": "code",
   "execution_count": null,
   "id": "fe6f6718-3305-4d2c-80d2-96657c2e8458",
   "metadata": {},
   "outputs": [],
   "source": [
    "from astropy import units as u\n",
    "from astropy.coordinates import SkyCoord, EarthLocation, AltAz\n",
    "from astropy.time import Time\n",
    "import numpy as np\n",
    "import matplotlib.pyplot as pp\n",
    "def altitudes(coord,gtime):\n",
    "    ar = np.empty((2,13),dtype='float')\n",
    "    d = np.arange(0,13,1)\n",
    "    for i in d:\n",
    "        time = Time(gtime)-(5.5)*u.hour + i*u.hour \n",
    "        iitm = EarthLocation(lat=12.992*u.deg, lon=80.234*u.deg, height=50*u.m)\n",
    "        co = coord.transform_to(AltAz(obstime=time, location=iitm))\n",
    "#         ar[i] = [co.alt]\n",
    "    pp.plot(i,co.alt,'k',label=\"altitude plot\")\n",
    "    return 0"
   ]
  }
 ],
 "metadata": {
  "kernelspec": {
   "display_name": "Python 3 (ipykernel)",
   "language": "python",
   "name": "python3"
  },
  "language_info": {
   "codemirror_mode": {
    "name": "ipython",
    "version": 3
   },
   "file_extension": ".py",
   "mimetype": "text/x-python",
   "name": "python",
   "nbconvert_exporter": "python",
   "pygments_lexer": "ipython3",
   "version": "3.8.10"
  }
 },
 "nbformat": 4,
 "nbformat_minor": 5
}
