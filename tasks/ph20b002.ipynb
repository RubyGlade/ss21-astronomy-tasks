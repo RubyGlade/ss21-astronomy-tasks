{
 "cells": [
  {
   "cell_type": "code",
   "execution_count": 2,
   "id": "ef92efad",
   "metadata": {},
   "outputs": [],
   "source": [
    "import matplotlib.pyplot as plt\n",
    "from astropy.io import fits"
   ]
  },
  {
   "cell_type": "code",
   "execution_count": 3,
   "id": "17ba920b",
   "metadata": {},
   "outputs": [],
   "source": [
    "hdulist=fits.open('gll_iem_v02_P6_V11_DIFFUSE.fit')"
   ]
  },
  {
   "cell_type": "code",
   "execution_count": 4,
   "id": "9ac2eb65",
   "metadata": {},
   "outputs": [
    {
     "name": "stdout",
     "output_type": "stream",
     "text": [
      "Filename: gll_iem_v02_P6_V11_DIFFUSE.fit\n",
      "No.    Name      Ver    Type      Cards   Dimensions   Format\n",
      "  0  PRIMARY       1 PrimaryHDU      34   (720, 360, 30)   float32   \n",
      "  1  ENERGIES      1 BinTableHDU     19   30R x 1C   [D]   \n"
     ]
    }
   ],
   "source": [
    "hdulist.info()"
   ]
  },
  {
   "cell_type": "code",
   "execution_count": 6,
   "id": "c96d3b31",
   "metadata": {},
   "outputs": [
    {
     "name": "stdout",
     "output_type": "stream",
     "text": [
      "<astropy.io.fits.hdu.image.PrimaryHDU object at 0x7fe9bca67a60>\n"
     ]
    }
   ],
   "source": [
    "hdu=hdulist[0]\n",
    "print(hdu)"
   ]
  },
  {
   "cell_type": "code",
   "execution_count": null,
   "id": "1bbc8c97",
   "metadata": {},
   "outputs": [],
   "source": []
  },
  {
   "cell_type": "code",
   "execution_count": 8,
   "id": "495dd1fc",
   "metadata": {},
   "outputs": [
    {
     "data": {
      "text/plain": [
       "SIMPLE  =                    T / Written by IDL:  Thu Jan 20 07:19:05 2011      \n",
       "BITPIX  =                  -32 /                                                \n",
       "NAXIS   =                    3 / number of data axes                            \n",
       "NAXIS1  =                  720 / length of data axis 1                          \n",
       "NAXIS2  =                  360 / length of data axis 2                          \n",
       "NAXIS3  =                   30 / length of data axis 3                          \n",
       "EXTEND  =                    T / FITS dataset may contain extensions            \n",
       "COMMENT   FITS (Flexible Image Transport System) format is defined in 'Astronomy\n",
       "COMMENT   and Astrophysics', volume 376, page 359; bibcode: 2001A&A...376..359H \n",
       "FLUX    =        8.42259635886 /                                                \n",
       "CRVAL1  =                   0. / Value of longitude in pixel CRPIX1             \n",
       "CDELT1  =                  0.5 / Step size in longitude                         \n",
       "CRPIX1  =                360.5 / Pixel that has value CRVAL1                    \n",
       "CTYPE1  = 'GLON-CAR'           / The type of parameter 1 (Galactic longitude in \n",
       "CUNIT1  = 'deg     '           / The unit of parameter 1                        \n",
       "CRVAL2  =                   0. / Value of latitude in pixel CRPIX2              \n",
       "CDELT2  =                  0.5 / Step size in latitude                          \n",
       "CRPIX2  =                180.5 / Pixel that has value CRVAL2                    \n",
       "CTYPE2  = 'GLAT-CAR'           / The type of parameter 2 (Galactic latitude in C\n",
       "CUNIT2  = 'deg     '           / The unit of parameter 2                        \n",
       "CRVAL3  =                  50. / Energy of pixel CRPIX3                         \n",
       "CDELT3  =    0.113828620540137 / log10 of step size in energy (if it is logarith\n",
       "CRPIX3  =                   1. / Pixel that has value CRVAL3                    \n",
       "CTYPE3  = 'photon energy'      / Axis 3 is the spectra                          \n",
       "CUNIT3  = 'MeV     '           / The unit of axis 3                             \n",
       "CHECKSUM= '3fdO3caL3caL3caL'   / HDU checksum updated 2009-07-07T22:31:18       \n",
       "DATASUM = '2184619035'         / data unit checksum updated 2009-07-07T22:31:18 \n",
       "DATE    = '2009-07-07'         /                                                \n",
       "FILENAME= '$TEMPDIR/diffuse/gll_iem_v02.fit' /File name with version number     \n",
       "TELESCOP= 'GLAST   '           /                                                \n",
       "INSTRUME= 'LAT     '           /                                                \n",
       "ORIGIN  = 'LISOC   '           /LAT team product delivered from the LISOC       \n",
       "OBSERVER= 'MICHELSON'          /Instrument PI                                   \n",
       "HISTORY Scaled version of gll_iem_v02.fit for use with P6_V11_DIFFUSE           "
      ]
     },
     "execution_count": 8,
     "metadata": {},
     "output_type": "execute_result"
    }
   ],
   "source": [
    "hdu.header"
   ]
  },
  {
   "cell_type": "code",
   "execution_count": 9,
   "id": "25fefd11",
   "metadata": {},
   "outputs": [],
   "source": [
    "List=[\"Telescope=GLAST\",\"Observer=MICHELSON\",\"Length of axis 3=30\",\"unit of axis 3=MeV\",\"What is axis 3=Photon energy\"]"
   ]
  },
  {
   "cell_type": "code",
   "execution_count": 10,
   "id": "fbc0c322",
   "metadata": {},
   "outputs": [
    {
     "name": "stdout",
     "output_type": "stream",
     "text": [
      "['Telescope=GLAST', 'Observer=MICHELSON', 'Length of axis 3=30', 'unit of axis 3=MeV', 'What is axis 3=Photon energy']\n"
     ]
    }
   ],
   "source": [
    "print(List)"
   ]
  },
  {
   "cell_type": "code",
   "execution_count": 13,
   "id": "dcd8524c",
   "metadata": {},
   "outputs": [
    {
     "data": {
      "text/plain": [
       "(30, 360, 720)"
      ]
     },
     "execution_count": 13,
     "metadata": {},
     "output_type": "execute_result"
    }
   ],
   "source": [
    "img_data=hdu.data\n",
    "hdu.data.shape"
   ]
  },
  {
   "cell_type": "code",
   "execution_count": 29,
   "id": "4036dfe0",
   "metadata": {},
   "outputs": [
    {
     "data": {
      "text/plain": [
       "<matplotlib.image.AxesImage at 0x7fe9b72d2340>"
      ]
     },
     "execution_count": 29,
     "metadata": {},
     "output_type": "execute_result"
    },
    {
     "data": {
      "image/png": "[encoded data removed]",
      "text/plain": [
       "<Figure size 432x288 with 1 Axes>"
      ]
     },
     "metadata": {
      "needs_background": "light"
     },
     "output_type": "display_data"
    }
   ],
   "source": [
    "plt.imshow(img_data[0],cmap='gray')"
   ]
  },
  {
   "cell_type": "code",
   "execution_count": 21,
   "id": "5c8b6783",
   "metadata": {},
   "outputs": [],
   "source": [
    "hdu1=hdu.data[5]+hdu.data[10]+hdu.data[15]+hdu.data[20]+hdu.data[25]"
   ]
  },
  {
   "cell_type": "code",
   "execution_count": 22,
   "id": "bd9464d3",
   "metadata": {},
   "outputs": [
    {
     "data": {
      "text/plain": [
       "(360, 720)"
      ]
     },
     "execution_count": 22,
     "metadata": {},
     "output_type": "execute_result"
    }
   ],
   "source": [
    "img_data1=hdu1.data\n",
    "hdu1.data.shape"
   ]
  },
  {
   "cell_type": "code",
   "execution_count": 28,
   "id": "812e6c1e",
   "metadata": {},
   "outputs": [
    {
     "data": {
      "text/plain": [
       "<matplotlib.image.AxesImage at 0x7fe9b72db8b0>"
      ]
     },
     "execution_count": 28,
     "metadata": {},
     "output_type": "execute_result"
    },
    {
     "data": {
      "image/png": "[encoded data removed]",
      "text/plain": [
       "<Figure size 432x288 with 1 Axes>"
      ]
     },
     "metadata": {
      "needs_background": "light"
     },
     "output_type": "display_data"
    }
   ],
   "source": [
    "plt.imshow(img_data1,cmap='gray')"
   ]
  },
  {
   "cell_type": "code",
   "execution_count": 8,
   "id": "9a366c68",
   "metadata": {},
   "outputs": [],
   "source": [
    "def Altaz(coords,time):\n",
    "    from astropy.coordinate import SkyCoord, EarthLocation, AltAz\n",
    "    from astropy.time import Time\n",
    "    from astropy import units as u\n",
    "    iitm=EarthLocation(lat=12.992*u.deg,lon=80.2394*u.deg,height=60*u.deg)\n",
    "    timearr=[time,time+12*u.hour]\n",
    "    coords_cel=coords.transform_to(AltAz(obstime=timearr,location=iitm))\n",
    "    return coords_cel"
   ]
  },
  {
   "cell_type": "code",
   "execution_count": 4,
   "id": "196fe6a1",
   "metadata": {},
   "outputs": [],
   "source": []
  },
  {
   "cell_type": "code",
   "execution_count": null,
   "id": "1dad3a09",
   "metadata": {},
   "outputs": [],
   "source": []
  },
  {
   "cell_type": "code",
   "execution_count": null,
   "id": "9081e6c2",
   "metadata": {},
   "outputs": [],
   "source": []
  },
  {
   "cell_type": "code",
   "execution_count": null,
   "id": "a7ba48e9",
   "metadata": {},
   "outputs": [],
   "source": []
  },
  {
   "cell_type": "code",
   "execution_count": null,
   "id": "99f1af48",
   "metadata": {},
   "outputs": [],
   "source": []
  },
  {
   "cell_type": "code",
   "execution_count": null,
   "id": "194d78e1",
   "metadata": {},
   "outputs": [],
   "source": []
  }
 ],
 "metadata": {
  "kernelspec": {
   "display_name": "Python 3 (ipykernel)",
   "language": "python",
   "name": "python3"
  },
  "language_info": {
   "codemirror_mode": {
    "name": "ipython",
    "version": 3
   },
   "file_extension": ".py",
   "mimetype": "text/x-python",
   "name": "python",
   "nbconvert_exporter": "python",
   "pygments_lexer": "ipython3",
   "version": "3.8.10"
  }
 },
 "nbformat": 4,
 "nbformat_minor": 5
}
