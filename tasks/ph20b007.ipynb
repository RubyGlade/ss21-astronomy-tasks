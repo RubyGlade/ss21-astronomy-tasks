{
 "cells": [
  {
   "cell_type": "code",
   "execution_count": 1,
   "metadata": {},
   "outputs": [],
   "source": [
    "from astropy.io import fits\n",
    "import matplotlib.pyplot as plt\n",
    "import numpy as np"
   ]
  },
  {
   "cell_type": "code",
   "execution_count": 2,
   "metadata": {},
   "outputs": [],
   "source": [
    "hdulist=fits.open('gll_iem_v02_P6_V11_DIFFUSE.fit')"
   ]
  },
  {
   "cell_type": "code",
   "execution_count": 3,
   "metadata": {
    "scrolled": true
   },
   "outputs": [
    {
     "name": "stdout",
     "output_type": "stream",
     "text": [
      "Filename: gll_iem_v02_P6_V11_DIFFUSE.fit\n",
      "No.    Name      Ver    Type      Cards   Dimensions   Format\n",
      "  0  PRIMARY       1 PrimaryHDU      34   (720, 360, 30)   float32   \n",
      "  1  ENERGIES      1 BinTableHDU     19   30R x 1C   [D]   \n"
     ]
    }
   ],
   "source": [
    "hdulist.info()"
   ]
  },
  {
   "cell_type": "code",
   "execution_count": 4,
   "metadata": {},
   "outputs": [],
   "source": [
    "hdu=hdulist[0]"
   ]
  },
  {
   "cell_type": "code",
   "execution_count": 5,
   "metadata": {
    "scrolled": false
   },
   "outputs": [
    {
     "data": {
      "text/plain": [
       "SIMPLE  =                    T / Written by IDL:  Thu Jan 20 07:19:05 2011      \n",
       "BITPIX  =                  -32 /                                                \n",
       "NAXIS   =                    3 / number of data axes                            \n",
       "NAXIS1  =                  720 / length of data axis 1                          \n",
       "NAXIS2  =                  360 / length of data axis 2                          \n",
       "NAXIS3  =                   30 / length of data axis 3                          \n",
       "EXTEND  =                    T / FITS dataset may contain extensions            \n",
       "COMMENT   FITS (Flexible Image Transport System) format is defined in 'Astronomy\n",
       "COMMENT   and Astrophysics', volume 376, page 359; bibcode: 2001A&A...376..359H \n",
       "FLUX    =        8.42259635886 /                                                \n",
       "CRVAL1  =                   0. / Value of longitude in pixel CRPIX1             \n",
       "CDELT1  =                  0.5 / Step size in longitude                         \n",
       "CRPIX1  =                360.5 / Pixel that has value CRVAL1                    \n",
       "CTYPE1  = 'GLON-CAR'           / The type of parameter 1 (Galactic longitude in \n",
       "CUNIT1  = 'deg     '           / The unit of parameter 1                        \n",
       "CRVAL2  =                   0. / Value of latitude in pixel CRPIX2              \n",
       "CDELT2  =                  0.5 / Step size in latitude                          \n",
       "CRPIX2  =                180.5 / Pixel that has value CRVAL2                    \n",
       "CTYPE2  = 'GLAT-CAR'           / The type of parameter 2 (Galactic latitude in C\n",
       "CUNIT2  = 'deg     '           / The unit of parameter 2                        \n",
       "CRVAL3  =                  50. / Energy of pixel CRPIX3                         \n",
       "CDELT3  =    0.113828620540137 / log10 of step size in energy (if it is logarith\n",
       "CRPIX3  =                   1. / Pixel that has value CRVAL3                    \n",
       "CTYPE3  = 'photon energy'      / Axis 3 is the spectra                          \n",
       "CUNIT3  = 'MeV     '           / The unit of axis 3                             \n",
       "CHECKSUM= '3fdO3caL3caL3caL'   / HDU checksum updated 2009-07-07T22:31:18       \n",
       "DATASUM = '2184619035'         / data unit checksum updated 2009-07-07T22:31:18 \n",
       "DATE    = '2009-07-07'         /                                                \n",
       "FILENAME= '$TEMPDIR/diffuse/gll_iem_v02.fit' /File name with version number     \n",
       "TELESCOP= 'GLAST   '           /                                                \n",
       "INSTRUME= 'LAT     '           /                                                \n",
       "ORIGIN  = 'LISOC   '           /LAT team product delivered from the LISOC       \n",
       "OBSERVER= 'MICHELSON'          /Instrument PI                                   \n",
       "HISTORY Scaled version of gll_iem_v02.fit for use with P6_V11_DIFFUSE           "
      ]
     },
     "execution_count": 5,
     "metadata": {},
     "output_type": "execute_result"
    }
   ],
   "source": [
    "hdu.header"
   ]
  },
  {
   "cell_type": "code",
   "execution_count": 6,
   "metadata": {},
   "outputs": [
    {
     "data": {
      "text/plain": [
       "30"
      ]
     },
     "execution_count": 6,
     "metadata": {},
     "output_type": "execute_result"
    }
   ],
   "source": [
    "hdu.header['NAXIS3']"
   ]
  },
  {
   "cell_type": "code",
   "execution_count": 7,
   "metadata": {},
   "outputs": [
    {
     "data": {
      "text/plain": [
       "'photon energy'"
      ]
     },
     "execution_count": 7,
     "metadata": {},
     "output_type": "execute_result"
    }
   ],
   "source": [
    "hdu.header['CTYPE3']"
   ]
  },
  {
   "cell_type": "code",
   "execution_count": 8,
   "metadata": {},
   "outputs": [
    {
     "data": {
      "text/plain": [
       "'MeV'"
      ]
     },
     "execution_count": 8,
     "metadata": {},
     "output_type": "execute_result"
    }
   ],
   "source": [
    "hdu.header['CUNIT3']"
   ]
  },
  {
   "cell_type": "code",
   "execution_count": 9,
   "metadata": {},
   "outputs": [
    {
     "data": {
      "text/plain": [
       "'GLAST'"
      ]
     },
     "execution_count": 9,
     "metadata": {},
     "output_type": "execute_result"
    }
   ],
   "source": [
    "hdu.header['TELESCOP']"
   ]
  },
  {
   "cell_type": "code",
   "execution_count": 10,
   "metadata": {},
   "outputs": [
    {
     "data": {
      "text/plain": [
       "'MICHELSON'"
      ]
     },
     "execution_count": 10,
     "metadata": {},
     "output_type": "execute_result"
    }
   ],
   "source": [
    "hdu.header['OBSERVER']"
   ]
  },
  {
   "cell_type": "code",
   "execution_count": 11,
   "metadata": {},
   "outputs": [
    {
     "data": {
      "text/plain": [
       "(30, 360, 720)"
      ]
     },
     "execution_count": 11,
     "metadata": {},
     "output_type": "execute_result"
    }
   ],
   "source": [
    "img_data = hdu.data\n",
    "hdu.data.shape"
   ]
  },
  {
   "cell_type": "code",
   "execution_count": 12,
   "metadata": {
    "scrolled": false
   },
   "outputs": [
    {
     "data": {
      "text/plain": [
       "1.3843595e-06"
      ]
     },
     "execution_count": 12,
     "metadata": {},
     "output_type": "execute_result"
    }
   ],
   "source": [
    "data1=img_data[0]\n",
    "np.std(data1)"
   ]
  },
  {
   "cell_type": "code",
   "execution_count": 13,
   "metadata": {},
   "outputs": [
    {
     "data": {
      "text/plain": [
       "7.027717e-08"
      ]
     },
     "execution_count": 13,
     "metadata": {},
     "output_type": "execute_result"
    }
   ],
   "source": [
    "np.min(data1)"
   ]
  },
  {
   "cell_type": "code",
   "execution_count": 14,
   "metadata": {},
   "outputs": [
    {
     "data": {
      "text/plain": [
       "4.5921523e-05"
      ]
     },
     "execution_count": 14,
     "metadata": {},
     "output_type": "execute_result"
    }
   ],
   "source": [
    "np.max(data1)"
   ]
  },
  {
   "cell_type": "code",
   "execution_count": 15,
   "metadata": {
    "scrolled": false
   },
   "outputs": [
    {
     "data": {
      "text/plain": [
       "Text(0, 0.5, 'Galactic Latitude')"
      ]
     },
     "execution_count": 15,
     "metadata": {},
     "output_type": "execute_result"
    },
    {
     "data": {
      "image/png": "[encoded data removed]",
      "text/plain": [
       "<Figure size 432x288 with 1 Axes>"
      ]
     },
     "metadata": {
      "needs_background": "light"
     },
     "output_type": "display_data"
    }
   ],
   "source": [
    "plt.imshow(data1, cmap='gray')\n",
    "plt.xlabel('Galactic Longitude')\n",
    "plt.ylabel('Galactic Latitude')"
   ]
  },
  {
   "cell_type": "code",
   "execution_count": 16,
   "metadata": {},
   "outputs": [],
   "source": [
    "a = img_data[4]\n",
    "b = img_data[9]\n",
    "c = img_data[14]\n",
    "d = img_data[-10]\n",
    "e = img_data[-5]\n",
    "f = img_data[-1]\n",
    "data2 = a + b + c + d + e + f"
   ]
  },
  {
   "cell_type": "code",
   "execution_count": 17,
   "metadata": {},
   "outputs": [
    {
     "data": {
      "text/plain": [
       "3.5803188e-07"
      ]
     },
     "execution_count": 17,
     "metadata": {},
     "output_type": "execute_result"
    }
   ],
   "source": [
    "np.std(data2)"
   ]
  },
  {
   "cell_type": "code",
   "execution_count": 18,
   "metadata": {},
   "outputs": [
    {
     "data": {
      "text/plain": [
       "1.2772909e-08"
      ]
     },
     "execution_count": 18,
     "metadata": {},
     "output_type": "execute_result"
    }
   ],
   "source": [
    "np.min(data2)"
   ]
  },
  {
   "cell_type": "code",
   "execution_count": 19,
   "metadata": {},
   "outputs": [
    {
     "data": {
      "text/plain": [
       "1.0906455e-05"
      ]
     },
     "execution_count": 19,
     "metadata": {},
     "output_type": "execute_result"
    }
   ],
   "source": [
    "np.max(data2)"
   ]
  },
  {
   "cell_type": "code",
   "execution_count": 20,
   "metadata": {
    "scrolled": true
   },
   "outputs": [
    {
     "data": {
      "text/plain": [
       "Text(0, 0.5, 'Galactic Latitude')"
      ]
     },
     "execution_count": 20,
     "metadata": {},
     "output_type": "execute_result"
    },
    {
     "data": {
      "image/png": "[encoded data removed]",
      "text/plain": [
       "<Figure size 432x288 with 1 Axes>"
      ]
     },
     "metadata": {
      "needs_background": "light"
     },
     "output_type": "display_data"
    }
   ],
   "source": [
    "plt.imshow(data2, cmap='gray')\n",
    "plt.xlabel('Galactic Longitude')\n",
    "plt.ylabel('Galactic Latitude')"
   ]
  },
  {
   "cell_type": "code",
   "execution_count": 21,
   "metadata": {},
   "outputs": [],
   "source": [
    "from astropy import units as u\n",
    "from astropy.coordinates import SkyCoord, EarthLocation, AltAz\n",
    "from astropy.time import Time"
   ]
  },
  {
   "cell_type": "code",
   "execution_count": 32,
   "metadata": {},
   "outputs": [],
   "source": [
    "def plt_altitude(coordinates,TIME):\n",
    "    iitm = EarthLocation(lat=12.992*u.deg, lon=80.234*u.deg, height=50*u.m)\n",
    "    time = Time(TIME) - 5.5*u.hour\n",
    "    delta_time= np.linspace(0,12,1000)*u.hour\n",
    "    coords_h = coordinates.transform_to(AltAz(obstime=time + delta_time , location=iitm))\n",
    "    altitude = coords_h.alt\n",
    "    plt.plot(delta_time,altitude,color='cyan')\n",
    "    plt.xlabel('Delta_time')\n",
    "    plt.ylabel('Altitude')\n",
    "    plt.title('Altitude of celestial object over time window of 12 hours')\n",
    "    ax = plt.axes()\n",
    "    ax.set_facecolor(\"black\")\n",
    "    plt.show()"
   ]
  },
  {
   "cell_type": "code",
   "execution_count": 33,
   "metadata": {},
   "outputs": [
    {
     "name": "stderr",
     "output_type": "stream",
     "text": [
      "<ipython-input-32-6959ce2330f8>:11: MatplotlibDeprecationWarning: Adding an axes using the same arguments as a previous axes currently reuses the earlier instance.  In a future version, a new instance will always be created and returned.  Meanwhile, this warning can be suppressed, and the future behavior ensured, by passing a unique label to each axes instance.\n",
      "  ax = plt.axes()\n"
     ]
    },
    {
     "data": {
      "image/png": "[encoded data removed]",
      "text/plain": [
       "<Figure size 432x288 with 1 Axes>"
      ]
     },
     "metadata": {
      "needs_background": "light"
     },
     "output_type": "display_data"
    }
   ],
   "source": [
    "plt_altitude( SkyCoord(12.11*u.deg, 85.26*u.deg),'2021-07-15 10:06:00')"
   ]
  }
 ],
 "metadata": {
  "kernelspec": {
   "display_name": "Python 3",
   "language": "python",
   "name": "python3"
  },
  "language_info": {
   "codemirror_mode": {
    "name": "ipython",
    "version": 3
   },
   "file_extension": ".py",
   "mimetype": "text/x-python",
   "name": "python",
   "nbconvert_exporter": "python",
   "pygments_lexer": "ipython3",
   "version": "3.8.5"
  }
 },
 "nbformat": 4,
 "nbformat_minor": 4
}
