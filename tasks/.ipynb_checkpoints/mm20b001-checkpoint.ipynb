{
 "cells": [
  {
   "cell_type": "code",
   "execution_count": 32,
   "id": "c70927a4-a7b8-4762-a164-1bb33e275190",
   "metadata": {},
   "outputs": [],
   "source": [
    "import numpy as np\n",
    "import matplotlib.pyplot as plt\n",
    "from astropy.io import fits"
   ]
  },
  {
   "cell_type": "code",
   "execution_count": 33,
   "id": "6f7f122b-141a-4c8b-a271-4af8e0e15d92",
   "metadata": {},
   "outputs": [],
   "source": [
    "file = fits.open('/home/aarya/ss21-astronomy-tasks/data/gll_iem_v02_P6_V11_DIFFUSE.fit')"
   ]
  },
  {
   "cell_type": "code",
   "execution_count": 34,
   "id": "f0bc061f-aca0-4d2a-900b-fdeed9a3f238",
   "metadata": {},
   "outputs": [],
   "source": [
    "file;"
   ]
  },
  {
   "cell_type": "code",
   "execution_count": 35,
   "id": "1ba5c974-dba3-4cb7-8ef2-1913ad32c122",
   "metadata": {},
   "outputs": [
    {
     "name": "stdout",
     "output_type": "stream",
     "text": [
      "Filename: /home/aarya/ss21-astronomy-tasks/data/gll_iem_v02_P6_V11_DIFFUSE.fit\n",
      "No.    Name      Ver    Type      Cards   Dimensions   Format\n",
      "  0  PRIMARY       1 PrimaryHDU      34   (720, 360, 30)   float32   \n",
      "  1  ENERGIES      1 BinTableHDU     19   30R x 1C   [D]   \n",
      "THere are 2 HDUs.\n"
     ]
    }
   ],
   "source": [
    "file.info()\n",
    "print('THere are 2 HDUs.')"
   ]
  },
  {
   "cell_type": "code",
   "execution_count": 36,
   "id": "d368951a-b45e-4f1d-8fee-6ed5750e0784",
   "metadata": {},
   "outputs": [
    {
     "data": {
      "text/plain": [
       "SIMPLE  =                    T / Written by IDL:  Thu Jan 20 07:19:05 2011      \n",
       "BITPIX  =                  -32 /                                                \n",
       "NAXIS   =                    3 / number of data axes                            \n",
       "NAXIS1  =                  720 / length of data axis 1                          \n",
       "NAXIS2  =                  360 / length of data axis 2                          \n",
       "NAXIS3  =                   30 / length of data axis 3                          \n",
       "EXTEND  =                    T / FITS dataset may contain extensions            \n",
       "COMMENT   FITS (Flexible Image Transport System) format is defined in 'Astronomy\n",
       "COMMENT   and Astrophysics', volume 376, page 359; bibcode: 2001A&A...376..359H \n",
       "FLUX    =        8.42259635886 /                                                \n",
       "CRVAL1  =                   0. / Value of longitude in pixel CRPIX1             \n",
       "CDELT1  =                  0.5 / Step size in longitude                         \n",
       "CRPIX1  =                360.5 / Pixel that has value CRVAL1                    \n",
       "CTYPE1  = 'GLON-CAR'           / The type of parameter 1 (Galactic longitude in \n",
       "CUNIT1  = 'deg     '           / The unit of parameter 1                        \n",
       "CRVAL2  =                   0. / Value of latitude in pixel CRPIX2              \n",
       "CDELT2  =                  0.5 / Step size in latitude                          \n",
       "CRPIX2  =                180.5 / Pixel that has value CRVAL2                    \n",
       "CTYPE2  = 'GLAT-CAR'           / The type of parameter 2 (Galactic latitude in C\n",
       "CUNIT2  = 'deg     '           / The unit of parameter 2                        \n",
       "CRVAL3  =                  50. / Energy of pixel CRPIX3                         \n",
       "CDELT3  =    0.113828620540137 / log10 of step size in energy (if it is logarith\n",
       "CRPIX3  =                   1. / Pixel that has value CRVAL3                    \n",
       "CTYPE3  = 'photon energy'      / Axis 3 is the spectra                          \n",
       "CUNIT3  = 'MeV     '           / The unit of axis 3                             \n",
       "CHECKSUM= '3fdO3caL3caL3caL'   / HDU checksum updated 2009-07-07T22:31:18       \n",
       "DATASUM = '2184619035'         / data unit checksum updated 2009-07-07T22:31:18 \n",
       "DATE    = '2009-07-07'         /                                                \n",
       "FILENAME= '$TEMPDIR/diffuse/gll_iem_v02.fit' /File name with version number     \n",
       "TELESCOP= 'GLAST   '           /                                                \n",
       "INSTRUME= 'LAT     '           /                                                \n",
       "ORIGIN  = 'LISOC   '           /LAT team product delivered from the LISOC       \n",
       "OBSERVER= 'MICHELSON'          /Instrument PI                                   \n",
       "HISTORY Scaled version of gll_iem_v02.fit for use with P6_V11_DIFFUSE           "
      ]
     },
     "execution_count": 36,
     "metadata": {},
     "output_type": "execute_result"
    }
   ],
   "source": [
    "file1 = file[0]\n",
    "file1.header"
   ]
  },
  {
   "cell_type": "code",
   "execution_count": 37,
   "id": "d5365ac3-7d19-4331-a965-8222ce314f5b",
   "metadata": {},
   "outputs": [
    {
     "data": {
      "text/plain": [
       "['Length of axis 3 is 30',\n",
       " 'Axis 3 denotes photon energy',\n",
       " 'Unit of axis 3 is MeV',\n",
       " 'The name of the telescope is GLAST',\n",
       " 'THe name of the observer is MICHELSON']"
      ]
     },
     "execution_count": 37,
     "metadata": {},
     "output_type": "execute_result"
    }
   ],
   "source": [
    "info_list = ['Length of axis 3 is 30','Axis 3 denotes photon energy','Unit of axis 3 is MeV','The name of the telescope is GLAST','THe name of the observer is MICHELSON']\n",
    "info_list"
   ]
  },
  {
   "cell_type": "code",
   "execution_count": 38,
   "id": "317b1df3-9585-4f04-9299-030b2c04dabc",
   "metadata": {},
   "outputs": [
    {
     "name": "stdout",
     "output_type": "stream",
     "text": [
      "Max: 4.5921523e-05\n",
      "Min: 7.027717e-08\n",
      "Stdev: 1.3843595e-06\n"
     ]
    }
   ],
   "source": [
    "data = file1.data\n",
    "\n",
    "data1 = data[0]\n",
    "print('Max:', np.max(data1))\n",
    "print('Min:', np.min(data1))\n",
    "print('Stdev:', np.std(data1))"
   ]
  },
  {
   "cell_type": "code",
   "execution_count": 39,
   "id": "1ed4c141-e43f-4ab9-8de4-7c2715e3188b",
   "metadata": {},
   "outputs": [
    {
     "data": {
      "text/plain": [
       "<matplotlib.image.AxesImage at 0x7f0bedcd1370>"
      ]
     },
     "execution_count": 39,
     "metadata": {},
     "output_type": "execute_result"
    },
    {
     "data": {
      "image/png": "[encoded data removed]",
      "text/plain": [
       "<Figure size 432x288 with 1 Axes>"
      ]
     },
     "metadata": {
      "needs_background": "light"
     },
     "output_type": "display_data"
    }
   ],
   "source": [
    "plt.imshow(data1, cmap='gray', vmin = 7.027717e-08, vmax = 4.5921523e-05)"
   ]
  },
  {
   "cell_type": "code",
   "execution_count": 40,
   "id": "0840dbdc-5dc2-4dca-b528-824b69181ac9",
   "metadata": {},
   "outputs": [
    {
     "name": "stdout",
     "output_type": "stream",
     "text": [
      "Max: 1.090754324492918e-05\n",
      "Min: 1.2774164938546379e-08\n",
      "Stdev: 3.5807245824365337e-07\n"
     ]
    }
   ],
   "source": [
    "z,x,y = data.shape\n",
    "arr = np.zeros((x,y))\n",
    "for i in range(z):\n",
    "    if(i%5 == 4):\n",
    "        arr = arr + data[i]\n",
    "\n",
    "print('Max:', np.max(arr))\n",
    "print('Min:', np.min(arr))\n",
    "print('Stdev:', np.std(arr))"
   ]
  },
  {
   "cell_type": "code",
   "execution_count": 41,
   "id": "6c0902b4-6b41-441f-abb1-835ff1325ae2",
   "metadata": {},
   "outputs": [
    {
     "data": {
      "text/plain": [
       "<matplotlib.image.AxesImage at 0x7f0bedc2c160>"
      ]
     },
     "execution_count": 41,
     "metadata": {},
     "output_type": "execute_result"
    },
    {
     "data": {
      "image/png": "[encoded data removed]",
      "text/plain": [
       "<Figure size 432x288 with 1 Axes>"
      ]
     },
     "metadata": {
      "needs_background": "light"
     },
     "output_type": "display_data"
    }
   ],
   "source": [
    "plt.imshow(arr, cmap='gray', vmin = 1.2774164938546379e-08, vmax = 1.090754324492918e-05)"
   ]
  },
  {
   "cell_type": "code",
   "execution_count": 42,
   "id": "330e960f-0c0f-4dd8-acaf-4b5515ca0ea6",
   "metadata": {},
   "outputs": [],
   "source": [
    "from astropy import units as u\n",
    "from astropy.coordinates import SkyCoord, EarthLocation, AltAz\n",
    "from astropy.time import Time"
   ]
  },
  {
   "cell_type": "code",
   "execution_count": 47,
   "id": "e57a080e-fac1-4176-8037-28ba7b83cbf3",
   "metadata": {},
   "outputs": [],
   "source": [
    "def altitude(coordinates, time):\n",
    "    iitm = EarthLocation(lat = 12.992*u.deg, lon = 80.234*u.deg, height = 50*u.m)\n",
    "    time1 = Time(time) - 5.5*u.hour\n",
    "    time_arr = []\n",
    "    for n in range(13):\n",
    "        time_arr.append(time1 + n*u.hour)\n",
    "        \n",
    "    alt_arr = (coordinates.transform_to(AltAz(obstime = time_arr, location = iitm)).alt.deg)\n",
    "    time_interval = np.arange(13) \n",
    "    \n",
    "    plt.plot(time_interval,alt_arr)\n",
    "    plt.xlabel('Time Frame over a span of 12 hours (from the given time)')\n",
    "    plt.ylabel('Altitude (in Degrees)')\n",
    "    plt.title('Plot for Altitude vs Time')\n",
    "    plt.show()"
   ]
  },
  {
   "cell_type": "code",
   "execution_count": 48,
   "id": "1d1426ec-3d8d-4b64-bc79-77c4d8a964e3",
   "metadata": {},
   "outputs": [
    {
     "data": {
      "image/png": "[encoded data removed]",
      "text/plain": [
       "<Figure size 432x288 with 1 Axes>"
      ]
     },
     "metadata": {
      "needs_background": "light"
     },
     "output_type": "display_data"
    }
   ],
   "source": [
    "coordinate_data = SkyCoord(12.11*u.deg, 85.26*u.deg)\n",
    "time_data = '2021-7-14 20:00:00'\n",
    "altitude(coordinate_data,time_data)"
   ]
  }
 ],
 "metadata": {
  "kernelspec": {
   "display_name": "Python 3 (ipykernel)",
   "language": "python",
   "name": "python3"
  },
  "language_info": {
   "codemirror_mode": {
    "name": "ipython",
    "version": 3
   },
   "file_extension": ".py",
   "mimetype": "text/x-python",
   "name": "python",
   "nbconvert_exporter": "python",
   "pygments_lexer": "ipython3",
   "version": "3.8.10"
  }
 },
 "nbformat": 4,
 "nbformat_minor": 5
}
