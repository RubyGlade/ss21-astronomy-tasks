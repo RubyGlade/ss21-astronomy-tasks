{
 "cells": [
  {
   "cell_type": "code",
   "execution_count": null,
   "id": "atlantic-commander",
   "metadata": {},
   "outputs": [],
   "source": [
    "from astropy.io import fits\n",
    "import matplotlib.pyplot as plt"
   ]
  },
  {
   "cell_type": "code",
   "execution_count": null,
   "id": "charitable-script",
   "metadata": {},
   "outputs": [],
   "source": [
    "import numpy as np"
   ]
  },
  {
   "cell_type": "markdown",
   "id": "pacific-excellence",
   "metadata": {},
   "source": [
    "## 2."
   ]
  },
  {
   "cell_type": "code",
   "execution_count": null,
   "id": "irish-prison",
   "metadata": {},
   "outputs": [],
   "source": [
    "h1 = fits.open('../data/gll_iem_v02_P6_V11_DIFFUSE.fit')"
   ]
  },
  {
   "cell_type": "markdown",
   "id": "important-perception",
   "metadata": {},
   "source": [
    "## 3."
   ]
  },
  {
   "cell_type": "code",
   "execution_count": null,
   "id": "common-structure",
   "metadata": {},
   "outputs": [],
   "source": [
    "h1.info()"
   ]
  },
  {
   "cell_type": "code",
   "execution_count": null,
   "id": "prospective-monitoring",
   "metadata": {
    "scrolled": false
   },
   "outputs": [],
   "source": [
    "len(h1) # Gives number of HDUs present"
   ]
  },
  {
   "cell_type": "markdown",
   "id": "described-latest",
   "metadata": {},
   "source": [
    "## 4."
   ]
  },
  {
   "cell_type": "code",
   "execution_count": null,
   "id": "fundamental-dryer",
   "metadata": {},
   "outputs": [],
   "source": [
    "prim1 = h1[0]"
   ]
  },
  {
   "cell_type": "code",
   "execution_count": null,
   "id": "electric-replacement",
   "metadata": {
    "scrolled": true
   },
   "outputs": [],
   "source": [
    "prim1.header"
   ]
  },
  {
   "cell_type": "code",
   "execution_count": null,
   "id": "varied-newman",
   "metadata": {},
   "outputs": [],
   "source": [
    "values_list = [prim1.header['NAXIS3'], prim1.header['CTYPE3'], prim1.header['CUNIT3'], prim1.header['TELESCOP'], prim1.header['OBSERVER']]\n",
    "values_list\n",
    "# List: [i. Length of axis 3, ii. Axis 3 type, iii. Units of axis 3, iv. Name of the telescope, v. Name of the observer]"
   ]
  },
  {
   "cell_type": "markdown",
   "id": "optimum-outside",
   "metadata": {},
   "source": [
    "## 5."
   ]
  },
  {
   "cell_type": "code",
   "execution_count": null,
   "id": "sacred-chemical",
   "metadata": {},
   "outputs": [],
   "source": [
    "data = prim1.data\n",
    "slice1 = data[0]"
   ]
  },
  {
   "cell_type": "code",
   "execution_count": null,
   "id": "amber-following",
   "metadata": {},
   "outputs": [],
   "source": [
    "max_pixel  = slice1.max()\n",
    "max_pixel"
   ]
  },
  {
   "cell_type": "code",
   "execution_count": null,
   "id": "declared-activation",
   "metadata": {},
   "outputs": [],
   "source": [
    "min_pixel = slice1.min()\n",
    "min_pixel"
   ]
  },
  {
   "cell_type": "code",
   "execution_count": null,
   "id": "identified-republic",
   "metadata": {},
   "outputs": [],
   "source": [
    "std = slice1.std()\n",
    "std"
   ]
  },
  {
   "cell_type": "markdown",
   "id": "ecological-belarus",
   "metadata": {},
   "source": [
    "## 6."
   ]
  },
  {
   "cell_type": "code",
   "execution_count": null,
   "id": "dependent-rubber",
   "metadata": {
    "scrolled": false
   },
   "outputs": [],
   "source": [
    "plt.imshow(slice1, cmap = 'gray', vmax = max_pixel, vmin = min_pixel)\n",
    "plt.title('First slice plot')\n",
    "plt.rcParams['figure.figsize'] = [10, 5]\n",
    "plt.show()"
   ]
  },
  {
   "cell_type": "markdown",
   "id": "sporting-obligation",
   "metadata": {},
   "source": [
    "## 7."
   ]
  },
  {
   "cell_type": "code",
   "execution_count": null,
   "id": "sealed-vitamin",
   "metadata": {
    "scrolled": true
   },
   "outputs": [],
   "source": [
    "data_slice = np.zeros((360, 720))\n",
    "for i in range(4, 30, 5):\n",
    "    data_slice += data[i]"
   ]
  },
  {
   "cell_type": "code",
   "execution_count": null,
   "id": "confident-beach",
   "metadata": {},
   "outputs": [],
   "source": [
    "data_slice.max()"
   ]
  },
  {
   "cell_type": "code",
   "execution_count": null,
   "id": "distinct-split",
   "metadata": {},
   "outputs": [],
   "source": [
    "data_slice.min()"
   ]
  },
  {
   "cell_type": "code",
   "execution_count": null,
   "id": "grand-transport",
   "metadata": {},
   "outputs": [],
   "source": [
    "data_slice.std()"
   ]
  },
  {
   "cell_type": "code",
   "execution_count": null,
   "id": "specified-transformation",
   "metadata": {},
   "outputs": [],
   "source": [
    "plt.imshow(data_slice, cmap = 'gray', vmax = data_slice.max(), vmin = data_slice.min())\n",
    "plt.title(\"Sliced data plot\")\n",
    "plt.rcParams['figure.figsize'] = [10, 5]\n",
    "plt.show()"
   ]
  },
  {
   "cell_type": "markdown",
   "id": "searching-syracuse",
   "metadata": {},
   "source": [
    "## 8."
   ]
  },
  {
   "cell_type": "code",
   "execution_count": null,
   "id": "cleared-picking",
   "metadata": {},
   "outputs": [],
   "source": [
    "from astropy import units as u\n",
    "from astropy.coordinates import SkyCoord, EarthLocation, AltAz\n",
    "from astropy.time import Time"
   ]
  },
  {
   "cell_type": "code",
   "execution_count": null,
   "id": "solid-reaction",
   "metadata": {},
   "outputs": [],
   "source": [
    "def altitude(coordinates, time):\n",
    "    iitm = EarthLocation(lat = 12.992 * u.deg, lon = 80.234 * u.deg, height = 50 * u.m)\n",
    "    alt = coordinates.transform_to(AltAz(obstime = time + u.min * np.arange(1, 12 * 60), location = iitm)).alt\n",
    "    \n",
    "    plt.plot(alt)\n",
    "    plt.xlabel('Time after observation (in min)')\n",
    "    plt.ylabel('Altitude')\n",
    "    plt.title('Altitude plot')\n",
    "    \n",
    "    plt.show()"
   ]
  },
  {
   "cell_type": "code",
   "execution_count": null,
   "id": "brutal-circuit",
   "metadata": {},
   "outputs": [],
   "source": [
    "# Example plot\n",
    "c1 = SkyCoord(12.11 * u.deg, 85.26 * u.deg)\n",
    "t1 = Time('2021-7-15 01:00:00') - 5.5 * u.hour\n",
    "altitude(c1, t1)"
   ]
  },
  {
   "cell_type": "code",
   "execution_count": null,
   "id": "appointed-divorce",
   "metadata": {},
   "outputs": [],
   "source": []
  }
 ],
 "metadata": {
  "kernelspec": {
   "display_name": "Python 3",
   "language": "python",
   "name": "python3"
  },
  "language_info": {
   "codemirror_mode": {
    "name": "ipython",
    "version": 3
   },
   "file_extension": ".py",
   "mimetype": "text/x-python",
   "name": "python",
   "nbconvert_exporter": "python",
   "pygments_lexer": "ipython3",
   "version": "3.9.5"
  }
 },
 "nbformat": 4,
 "nbformat_minor": 5
}
